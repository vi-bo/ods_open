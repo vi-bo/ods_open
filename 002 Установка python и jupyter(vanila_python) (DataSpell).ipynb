{
 "cells": [
  {
   "cell_type": "code",
   "execution_count": 1,
   "id": "3601a7c0",
   "metadata": {},
   "outputs": [],
   "source": [
    "#vibo: Vitaliy Bocharov, telegram(@VitaliyBocharov)"
   ]
  },
  {
   "cell_type": "code",
   "execution_count": 2,
   "id": "333df363",
   "metadata": {},
   "outputs": [],
   "source": [
    "#vibo: 001: Приветствие https://youtu.be/CcgpXK5PE9c"
   ]
  },
  {
   "cell_type": "markdown",
   "source": [
    "![](ods_stickers.jpg)"
   ],
   "metadata": {
    "collapsed": false
   }
  },
  {
   "cell_type": "markdown",
   "id": "773a8a33",
   "metadata": {},
   "source": [
    "#### Открытый курс машинного обучения (ведет - Петр Ермаков)\n",
    "### 002: Установка python и jupyter"
   ]
  },
  {
   "cell_type": "code",
   "execution_count": 3,
   "id": "f03a39c6",
   "metadata": {},
   "outputs": [],
   "source": [
    "#vibo: 002: Установка python и jupyter https://youtu.be/hcnbJZ7MCC4"
   ]
  },
  {
   "cell_type": "code",
   "execution_count": 4,
   "id": "8cb22ac1",
   "metadata": {},
   "outputs": [],
   "source": [
    "#vibo: через anaconda-navigator создал новую environments (ods) присоздании выбрал python 3.9"
   ]
  },
  {
   "cell_type": "code",
   "execution_count": 7,
   "id": "d6a915bb",
   "metadata": {},
   "outputs": [
    {
     "data": {
      "text/plain": [
       "'Linux-5.9.16-1-MANJARO-x86_64-with-glibc2.33'"
      ]
     },
     "execution_count": 7,
     "metadata": {},
     "output_type": "execute_result"
    }
   ],
   "source": [
    "# #vibo: вопрос 1 ods.ai\n",
    "# import platform\n",
    "# platform.platform()"
   ]
  },
  {
   "cell_type": "code",
   "execution_count": 1,
   "id": "543b6e0f",
   "metadata": {},
   "outputs": [
    {
     "data": {
      "text/plain": [
       "'Linux-5.9.16-1-MANJARO-x86_64-with-glibc2.33'"
      ]
     },
     "execution_count": 1,
     "metadata": {},
     "output_type": "execute_result"
    }
   ],
   "source": [
    "# #2 создал env через python3 -m venv env (python 3.9 взял из Anaconda)\n",
    "# #vibo: вопрос 1 ods.ai\n",
    "# import platform\n",
    "# platform.platform()"
   ]
  },
  {
   "cell_type": "code",
   "execution_count": 9,
   "outputs": [
    {
     "data": {
      "text/plain": "'Linux-5.9.16-1-MANJARO-x86_64-with-glibc2.33'"
     },
     "execution_count": 9,
     "metadata": {},
     "output_type": "execute_result"
    }
   ],
   "source": [
    "#3 DataSpell использую env которую создал для ODS\n",
    "#vibo: вопрос 1 ods.ai\n",
    "import platform\n",
    "platform.platform()"
   ],
   "metadata": {
    "collapsed": false,
    "pycharm": {
     "name": "#%%\n"
    }
   }
  },
  {
   "cell_type": "code",
   "execution_count": 2,
   "id": "ee2b2fa3",
   "metadata": {},
   "outputs": [
    {
     "data": {
      "text/plain": [
       "'3.9.7 (default, Sep 16 2021, 13:09:58) \\n[GCC 7.5.0]'"
      ]
     },
     "execution_count": 2,
     "metadata": {},
     "output_type": "execute_result"
    }
   ],
   "source": [
    "# #vibo: вопрос 2 ods.ai\n",
    "# import sys\n",
    "# sys.version"
   ]
  },
  {
   "cell_type": "code",
   "execution_count": 2,
   "id": "a4f98e9e",
   "metadata": {},
   "outputs": [
    {
     "data": {
      "text/plain": [
       "'3.9.7 (default, Sep 16 2021, 13:09:58) \\n[GCC 7.5.0]'"
      ]
     },
     "execution_count": 2,
     "metadata": {},
     "output_type": "execute_result"
    }
   ],
   "source": [
    "# #2 вывод аналогичен\n",
    "# #vibo: вопрос 2 ods.ai\n",
    "# import sys\n",
    "# sys.version"
   ]
  },
  {
   "cell_type": "code",
   "execution_count": 10,
   "outputs": [
    {
     "data": {
      "text/plain": "'3.9.7 (default, Sep 16 2021, 13:09:58) \\n[GCC 7.5.0]'"
     },
     "execution_count": 10,
     "metadata": {},
     "output_type": "execute_result"
    }
   ],
   "source": [
    "#3 вывод аналогичен\n",
    "#vibo: вопрос 2 ods.ai\n",
    "import sys\n",
    "sys.version"
   ],
   "metadata": {
    "collapsed": false,
    "pycharm": {
     "name": "#%%\n"
    }
   }
  },
  {
   "cell_type": "code",
   "execution_count": 6,
   "id": "2df54f82",
   "metadata": {},
   "outputs": [
    {
     "name": "stdout",
     "output_type": "stream",
     "text": [
      "pip 22.0.3 from /home/vibo/anaconda3/envs/ods/lib/python3.9/site-packages/pip (python 3.9)\r\n"
     ]
    }
   ],
   "source": [
    "# #vibo: проверяю версию pip\n",
    "# !pip --version"
   ]
  },
  {
   "cell_type": "code",
   "execution_count": 3,
   "id": "62da040e",
   "metadata": {},
   "outputs": [
    {
     "name": "stdout",
     "output_type": "stream",
     "text": [
      "pip 22.0.3 from /home/vibo/Документы/ods_2022/ods-venv/lib/python3.9/site-packages/pip (python 3.9)\r\n"
     ]
    }
   ],
   "source": [
    "# #2 pip уже ods-env, а не anaconda\n",
    "# #vibo: проверяю версию pip\n",
    "# !pip --version"
   ]
  },
  {
   "cell_type": "code",
   "execution_count": 11,
   "outputs": [
    {
     "name": "stdout",
     "output_type": "stream",
     "text": [
      "pip 22.0.3 from /home/vibo/Документы/ods_2022/ods-venv/lib/python3.9/site-packages/pip (python 3.9)\r\n"
     ]
    }
   ],
   "source": [
    "#3 pip уже ods-env, через DataSpell\n",
    "#vibo: проверяю версию pip\n",
    "!pip --version"
   ],
   "metadata": {
    "collapsed": false,
    "pycharm": {
     "name": "#%%\n"
    }
   }
  },
  {
   "cell_type": "code",
   "execution_count": 1,
   "id": "21cbd109",
   "metadata": {},
   "outputs": [
    {
     "data": {
      "text/plain": [
       "'1.22.2'"
      ]
     },
     "execution_count": 1,
     "metadata": {},
     "output_type": "execute_result"
    }
   ],
   "source": [
    "# #vibo: проверка версии numpy\n",
    "# import numpy as np\n",
    "# np.__version__"
   ]
  },
  {
   "cell_type": "code",
   "execution_count": 4,
   "id": "c9cdd6f4",
   "metadata": {},
   "outputs": [
    {
     "data": {
      "text/plain": [
       "'1.22.2'"
      ]
     },
     "execution_count": 4,
     "metadata": {},
     "output_type": "execute_result"
    }
   ],
   "source": [
    "# #vibo: проверка версии numpy\n",
    "# import numpy as np\n",
    "# np.__version__"
   ]
  },
  {
   "cell_type": "code",
   "execution_count": 12,
   "outputs": [
    {
     "data": {
      "text/plain": "'1.22.2'"
     },
     "execution_count": 12,
     "metadata": {},
     "output_type": "execute_result"
    }
   ],
   "source": [
    "#vibo: проверка версии numpy\n",
    "import numpy as np\n",
    "np.__version__"
   ],
   "metadata": {
    "collapsed": false,
    "pycharm": {
     "name": "#%%\n"
    }
   }
  },
  {
   "cell_type": "code",
   "execution_count": 2,
   "id": "6a994a29",
   "metadata": {},
   "outputs": [
    {
     "data": {
      "text/plain": [
       "'1.4.0'"
      ]
     },
     "execution_count": 2,
     "metadata": {},
     "output_type": "execute_result"
    }
   ],
   "source": [
    "# #vibo: проверка версии numpy\n",
    "# import pandas as pd\n",
    "# pd.__version__"
   ]
  },
  {
   "cell_type": "code",
   "execution_count": 5,
   "id": "a29e990d",
   "metadata": {},
   "outputs": [
    {
     "data": {
      "text/plain": [
       "'1.4.0'"
      ]
     },
     "execution_count": 5,
     "metadata": {},
     "output_type": "execute_result"
    }
   ],
   "source": [
    "# #vibo: проверка версии numpy\n",
    "# import pandas as pd\n",
    "# pd.__version__"
   ]
  },
  {
   "cell_type": "code",
   "execution_count": 13,
   "outputs": [
    {
     "data": {
      "text/plain": "'1.4.0'"
     },
     "execution_count": 13,
     "metadata": {},
     "output_type": "execute_result"
    }
   ],
   "source": [
    "#vibo: проверка версии numpy\n",
    "import pandas as pd\n",
    "pd.__version__"
   ],
   "metadata": {
    "collapsed": false,
    "pycharm": {
     "name": "#%%\n"
    }
   }
  },
  {
   "cell_type": "code",
   "execution_count": 14,
   "id": "a6aaf88c",
   "metadata": {},
   "outputs": [
    {
     "data": {
      "text/plain": "'Linux-5.9.16-1-MANJARO-x86_64-with-glibc2.33'"
     },
     "execution_count": 14,
     "metadata": {},
     "output_type": "execute_result"
    }
   ],
   "source": [
    "#vibo: вопрос 1 ods.ai\n",
    "import platform\n",
    "platform.platform()"
   ]
  },
  {
   "cell_type": "code",
   "execution_count": 15,
   "id": "6f911e3b",
   "metadata": {},
   "outputs": [
    {
     "data": {
      "text/plain": "'3.9.7 (default, Sep 16 2021, 13:09:58) \\n[GCC 7.5.0]'"
     },
     "execution_count": 15,
     "metadata": {},
     "output_type": "execute_result"
    }
   ],
   "source": [
    "#vibo: вопрос 2 ods.ai\n",
    "import sys\n",
    "sys.version"
   ]
  },
  {
   "cell_type": "code",
   "execution_count": 1,
   "id": "49156598",
   "metadata": {
    "pycharm": {
     "name": "#%%\n"
    }
   },
   "outputs": [
    {
     "name": "stdout",
     "output_type": "stream",
     "text": [
      "pip 22.0.3 from /home/vibo/anaconda3/envs/ods/lib/python3.9/site-packages/pip (python 3.9)\r\n"
     ]
    }
   ],
   "source": [
    "# #vibo: проверяю версию pip (Anaconda)\n",
    "# !pip --version"
   ]
  },
  {
   "cell_type": "code",
   "execution_count": 8,
   "id": "bb4e7ca8",
   "metadata": {},
   "outputs": [
    {
     "name": "stdout",
     "output_type": "stream",
     "text": [
      "pip 22.0.3 from /home/vibo/Документы/ods_2022/ods-venv/lib/python3.9/site-packages/pip (python 3.9)\r\n"
     ]
    }
   ],
   "source": [
    "# #vibo: проверяю версию pip ODS env\n",
    "# !pip --version"
   ]
  },
  {
   "cell_type": "code",
   "execution_count": 16,
   "outputs": [
    {
     "name": "stdout",
     "output_type": "stream",
     "text": [
      "pip 22.0.3 from /home/vibo/Документы/ods_2022/ods-venv/lib/python3.9/site-packages/pip (python 3.9)\r\n"
     ]
    }
   ],
   "source": [
    "#vibo: версия pip через ODS env в DataSpell\n",
    "! pip --version"
   ],
   "metadata": {
    "collapsed": false,
    "pycharm": {
     "name": "#%%\n"
    }
   }
  }
 ],
 "metadata": {
  "kernelspec": {
   "display_name": "Python 3 (ipykernel)",
   "language": "python",
   "name": "python3"
  },
  "language_info": {
   "codemirror_mode": {
    "name": "ipython",
    "version": 3
   },
   "file_extension": ".py",
   "mimetype": "text/x-python",
   "name": "python",
   "nbconvert_exporter": "python",
   "pygments_lexer": "ipython3",
   "version": "3.9.7"
  }
 },
 "nbformat": 4,
 "nbformat_minor": 5
}