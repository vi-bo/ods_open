{
 "cells": [
  {
   "cell_type": "code",
   "execution_count": null,
   "id": "16f65c1c",
   "metadata": {},
   "outputs": [],
   "source": [
    "#vibo: Vitaliy Bocharov, telegram(@VitaliyBocharov)"
   ]
  },
  {
   "cell_type": "code",
   "execution_count": 1,
   "id": "99595365",
   "metadata": {},
   "outputs": [],
   "source": [
    "#vibo: 001: Приветствие https://youtu.be/CcgpXK5PE9c"
   ]
  },
  {
   "cell_type": "markdown",
   "id": "67728081",
   "metadata": {},
   "source": [
    "#### Открытый курс машинного обучения (ведет - Петр Ермаков)\n",
    "### 002: Установка python и jupyter"
   ]
  },
  {
   "cell_type": "code",
   "execution_count": null,
   "id": "073b1c68",
   "metadata": {},
   "outputs": [],
   "source": [
    "#vibo: 002: Установка python и jupyter https://youtu.be/hcnbJZ7MCC4"
   ]
  },
  {
   "cell_type": "code",
   "execution_count": null,
   "id": "4f8a1be0",
   "metadata": {},
   "outputs": [],
   "source": [
    "#vibo: через anaconda-navigator создал новую environments (ods) присоздании выбрал python 3.9"
   ]
  },
  {
   "cell_type": "code",
   "execution_count": 7,
   "id": "6edc4969",
   "metadata": {},
   "outputs": [
    {
     "data": {
      "text/plain": [
       "'Linux-5.9.16-1-MANJARO-x86_64-with-glibc2.33'"
      ]
     },
     "execution_count": 7,
     "metadata": {},
     "output_type": "execute_result"
    }
   ],
   "source": [
    "#vibo: вопрос 1 ods.ai\n",
    "import platform\n",
    "platform.platform()"
   ]
  },
  {
   "cell_type": "code",
   "execution_count": 2,
   "id": "269a92b8",
   "metadata": {},
   "outputs": [
    {
     "data": {
      "text/plain": [
       "'3.9.7 (default, Sep 16 2021, 13:09:58) \\n[GCC 7.5.0]'"
      ]
     },
     "execution_count": 2,
     "metadata": {},
     "output_type": "execute_result"
    }
   ],
   "source": [
    "#vibo: вопрос 2 ods.ai\n",
    "import sys\n",
    "sys.version"
   ]
  },
  {
   "cell_type": "code",
   "execution_count": 3,
   "id": "dfd5cbee",
   "metadata": {},
   "outputs": [
    {
     "name": "stdout",
     "output_type": "stream",
     "text": [
      "pip 21.2.4 from /home/vibo/anaconda3/envs/ods/lib/python3.9/site-packages/pip (python 3.9)\r\n"
     ]
    }
   ],
   "source": [
    "#vibo: проверяю версию pip\n",
    "!pip --version"
   ]
  },
  {
   "cell_type": "code",
   "execution_count": 5,
   "id": "466cdb26",
   "metadata": {},
   "outputs": [
    {
     "name": "stdout",
     "output_type": "stream",
     "text": [
      "Requirement already satisfied: pip in /home/vibo/anaconda3/envs/ods/lib/python3.9/site-packages (21.2.4)\n",
      "Collecting pip\n",
      "  Using cached pip-22.0.3-py3-none-any.whl (2.1 MB)\n",
      "Installing collected packages: pip\n",
      "  Attempting uninstall: pip\n",
      "    Found existing installation: pip 21.2.4\n",
      "    Uninstalling pip-21.2.4:\n",
      "      Successfully uninstalled pip-21.2.4\n",
      "Successfully installed pip-22.0.3\n"
     ]
    }
   ],
   "source": [
    "#vibo: обновил pip до последней версии 22.0.3 (проверим, в первый раз показалось, что слетел)\n",
    "!python3 -m pip install --upgrade pip\n",
    "#vibo: через anaconda-navigator не устанавливался"
   ]
  },
  {
   "cell_type": "code",
   "execution_count": 6,
   "id": "5e5fb4b4",
   "metadata": {},
   "outputs": [
    {
     "name": "stdout",
     "output_type": "stream",
     "text": [
      "pip 22.0.3 from /home/vibo/anaconda3/envs/ods/lib/python3.9/site-packages/pip (python 3.9)\r\n"
     ]
    }
   ],
   "source": [
    "#vibo: проверяю версию pip\n",
    "!pip --version"
   ]
  },
  {
   "cell_type": "code",
   "execution_count": 1,
   "id": "e6031a5a",
   "metadata": {},
   "outputs": [],
   "source": [
    "#vibo: после обновления до последней версии pip через anaconda-navigator в environments (ods)\n",
    "#vibo: перестал отображаться"
   ]
  },
  {
   "cell_type": "code",
   "execution_count": 2,
   "id": "379e7328",
   "metadata": {},
   "outputs": [
    {
     "name": "stdout",
     "output_type": "stream",
     "text": [
      "pip 22.0.3 from /home/vibo/anaconda3/envs/ods/lib/python3.9/site-packages/pip (python 3.9)\r\n"
     ]
    }
   ],
   "source": [
    "#vibo: проверяю еще раз версию pip, ок не слетело\n",
    "!pip --version"
   ]
  },
  {
   "cell_type": "code",
   "execution_count": 4,
   "id": "0f3cdedd",
   "metadata": {},
   "outputs": [
    {
     "name": "stdout",
     "output_type": "stream",
     "text": [
      "Collecting numpy\n",
      "  Using cached numpy-1.22.2-cp39-cp39-manylinux_2_17_x86_64.manylinux2014_x86_64.whl (16.8 MB)\n",
      "Installing collected packages: numpy\n",
      "Successfully installed numpy-1.22.2\n"
     ]
    }
   ],
   "source": [
    "#vibo: ставим numpy (1.22.2)\n",
    "!pip install numpy"
   ]
  },
  {
   "cell_type": "code",
   "execution_count": 1,
   "id": "6e85a5cb",
   "metadata": {},
   "outputs": [
    {
     "data": {
      "text/plain": [
       "'1.22.2'"
      ]
     },
     "execution_count": 1,
     "metadata": {},
     "output_type": "execute_result"
    }
   ],
   "source": [
    "#vibo: проверка версии numpy\n",
    "import numpy as np\n",
    "np.__version__"
   ]
  },
  {
   "cell_type": "code",
   "execution_count": 5,
   "id": "14e858a8",
   "metadata": {},
   "outputs": [
    {
     "name": "stdout",
     "output_type": "stream",
     "text": [
      "Collecting pandas\n",
      "  Using cached pandas-1.4.0-cp39-cp39-manylinux_2_17_x86_64.manylinux2014_x86_64.whl (11.7 MB)\n",
      "Requirement already satisfied: numpy>=1.18.5 in /home/vibo/anaconda3/envs/ods/lib/python3.9/site-packages (from pandas) (1.22.2)\n",
      "Collecting pytz>=2020.1\n",
      "  Using cached pytz-2021.3-py2.py3-none-any.whl (503 kB)\n",
      "Requirement already satisfied: python-dateutil>=2.8.1 in /home/vibo/anaconda3/envs/ods/lib/python3.9/site-packages (from pandas) (2.8.2)\n",
      "Requirement already satisfied: six>=1.5 in /home/vibo/anaconda3/envs/ods/lib/python3.9/site-packages (from python-dateutil>=2.8.1->pandas) (1.16.0)\n",
      "Installing collected packages: pytz, pandas\n",
      "Successfully installed pandas-1.4.0 pytz-2021.3\n"
     ]
    }
   ],
   "source": [
    "#vibo: ставим pandas (1.4.0)\n",
    "!pip install pandas"
   ]
  },
  {
   "cell_type": "code",
   "execution_count": 2,
   "id": "ffb10e4b",
   "metadata": {},
   "outputs": [
    {
     "data": {
      "text/plain": [
       "'1.4.0'"
      ]
     },
     "execution_count": 2,
     "metadata": {},
     "output_type": "execute_result"
    }
   ],
   "source": [
    "#vibo: проверка версии numpy\n",
    "import pandas as pd\n",
    "pd.__version__"
   ]
  },
  {
   "cell_type": "code",
   "execution_count": 6,
   "id": "40a224ec",
   "metadata": {},
   "outputs": [
    {
     "name": "stdout",
     "output_type": "stream",
     "text": [
      "Collecting jupyter\n",
      "  Downloading jupyter-1.0.0-py2.py3-none-any.whl (2.7 kB)\n",
      "Requirement already satisfied: ipykernel in /home/vibo/anaconda3/envs/ods/lib/python3.9/site-packages (from jupyter) (6.4.1)\n",
      "Requirement already satisfied: notebook in /home/vibo/anaconda3/envs/ods/lib/python3.9/site-packages (from jupyter) (6.4.6)\n",
      "Requirement already satisfied: nbconvert in /home/vibo/anaconda3/envs/ods/lib/python3.9/site-packages (from jupyter) (6.3.0)\n",
      "Requirement already satisfied: qtconsole in /home/vibo/anaconda3/envs/ods/lib/python3.9/site-packages (from jupyter) (5.2.2)\n",
      "Collecting ipywidgets\n",
      "  Downloading ipywidgets-7.6.5-py2.py3-none-any.whl (121 kB)\n",
      "\u001b[2K     \u001b[38;2;114;156;31m━━━━━━━━━━━━━━━━━━━━━━━━━━━━━━━━━━━━━━━\u001b[0m \u001b[32m121.8/121.8 KB\u001b[0m \u001b[31m1.4 MB/s\u001b[0m eta \u001b[36m0:00:00\u001b[0m MB/s\u001b[0m eta \u001b[36m0:00:01\u001b[0m\n",
      "\u001b[?25hCollecting jupyter-console\n",
      "  Downloading jupyter_console-6.4.0-py3-none-any.whl (22 kB)\n",
      "Requirement already satisfied: ipython<8.0,>=7.23.1 in /home/vibo/anaconda3/envs/ods/lib/python3.9/site-packages (from ipykernel->jupyter) (7.31.1)\n",
      "Requirement already satisfied: tornado<7.0,>=4.2 in /home/vibo/anaconda3/envs/ods/lib/python3.9/site-packages (from ipykernel->jupyter) (6.1)\n",
      "Requirement already satisfied: debugpy<2.0,>=1.0.0 in /home/vibo/anaconda3/envs/ods/lib/python3.9/site-packages (from ipykernel->jupyter) (1.5.1)\n",
      "Requirement already satisfied: ipython-genutils in /home/vibo/anaconda3/envs/ods/lib/python3.9/site-packages (from ipykernel->jupyter) (0.2.0)\n",
      "Requirement already satisfied: matplotlib-inline<0.2.0,>=0.1.0 in /home/vibo/anaconda3/envs/ods/lib/python3.9/site-packages (from ipykernel->jupyter) (0.1.2)\n",
      "Requirement already satisfied: traitlets<6.0,>=4.1.0 in /home/vibo/anaconda3/envs/ods/lib/python3.9/site-packages (from ipykernel->jupyter) (5.1.1)\n",
      "Requirement already satisfied: jupyter-client<8.0 in /home/vibo/anaconda3/envs/ods/lib/python3.9/site-packages (from ipykernel->jupyter) (7.1.2)\n",
      "Collecting jupyterlab-widgets>=1.0.0\n",
      "  Downloading jupyterlab_widgets-1.0.2-py3-none-any.whl (243 kB)\n",
      "\u001b[2K     \u001b[38;2;114;156;31m━━━━━━━━━━━━━━━━━━━━━━━━━━━━━━━━━━━━━━━\u001b[0m \u001b[32m243.4/243.4 KB\u001b[0m \u001b[31m2.0 MB/s\u001b[0m eta \u001b[36m0:00:00\u001b[0m MB/s\u001b[0m eta \u001b[36m0:00:01\u001b[0m:01\u001b[0m\n",
      "\u001b[?25hCollecting widgetsnbextension~=3.5.0\n",
      "  Downloading widgetsnbextension-3.5.2-py2.py3-none-any.whl (1.6 MB)\n",
      "\u001b[2K     \u001b[38;2;114;156;31m━━━━━━━━━━━━━━━━━━━━━━━━━━━━━━━━━━━━━━━━\u001b[0m \u001b[32m1.6/1.6 MB\u001b[0m \u001b[31m2.5 MB/s\u001b[0m eta \u001b[36m0:00:00\u001b[0m[36m0:00:01\u001b[0mm eta \u001b[36m0:00:01\u001b[0m\n",
      "\u001b[?25hRequirement already satisfied: nbformat>=4.2.0 in /home/vibo/anaconda3/envs/ods/lib/python3.9/site-packages (from ipywidgets->jupyter) (5.1.3)\n",
      "Requirement already satisfied: pygments in /home/vibo/anaconda3/envs/ods/lib/python3.9/site-packages (from jupyter-console->jupyter) (2.11.2)\n",
      "Requirement already satisfied: prompt-toolkit!=3.0.0,!=3.0.1,<3.1.0,>=2.0.0 in /home/vibo/anaconda3/envs/ods/lib/python3.9/site-packages (from jupyter-console->jupyter) (3.0.20)\n",
      "Requirement already satisfied: jupyterlab-pygments in /home/vibo/anaconda3/envs/ods/lib/python3.9/site-packages (from nbconvert->jupyter) (0.1.2)\n",
      "Requirement already satisfied: pandocfilters>=1.4.1 in /home/vibo/anaconda3/envs/ods/lib/python3.9/site-packages (from nbconvert->jupyter) (1.5.0)\n",
      "Requirement already satisfied: jupyter-core in /home/vibo/anaconda3/envs/ods/lib/python3.9/site-packages (from nbconvert->jupyter) (4.9.1)\n",
      "Requirement already satisfied: testpath in /home/vibo/anaconda3/envs/ods/lib/python3.9/site-packages (from nbconvert->jupyter) (0.5.0)\n",
      "Requirement already satisfied: entrypoints>=0.2.2 in /home/vibo/anaconda3/envs/ods/lib/python3.9/site-packages (from nbconvert->jupyter) (0.3)\n",
      "Requirement already satisfied: mistune<2,>=0.8.1 in /home/vibo/anaconda3/envs/ods/lib/python3.9/site-packages (from nbconvert->jupyter) (0.8.4)\n",
      "Requirement already satisfied: nbclient<0.6.0,>=0.5.0 in /home/vibo/anaconda3/envs/ods/lib/python3.9/site-packages (from nbconvert->jupyter) (0.5.3)\n",
      "Requirement already satisfied: bleach in /home/vibo/anaconda3/envs/ods/lib/python3.9/site-packages (from nbconvert->jupyter) (4.1.0)\n",
      "Requirement already satisfied: jinja2>=2.4 in /home/vibo/anaconda3/envs/ods/lib/python3.9/site-packages (from nbconvert->jupyter) (3.0.2)\n",
      "Requirement already satisfied: defusedxml in /home/vibo/anaconda3/envs/ods/lib/python3.9/site-packages (from nbconvert->jupyter) (0.7.1)\n",
      "Requirement already satisfied: Send2Trash>=1.8.0 in /home/vibo/anaconda3/envs/ods/lib/python3.9/site-packages (from notebook->jupyter) (1.8.0)\n",
      "Requirement already satisfied: pyzmq>=17 in /home/vibo/anaconda3/envs/ods/lib/python3.9/site-packages (from notebook->jupyter) (22.3.0)\n",
      "Requirement already satisfied: prometheus-client in /home/vibo/anaconda3/envs/ods/lib/python3.9/site-packages (from notebook->jupyter) (0.13.1)\n",
      "Requirement already satisfied: terminado>=0.8.3 in /home/vibo/anaconda3/envs/ods/lib/python3.9/site-packages (from notebook->jupyter) (0.9.4)\n",
      "Requirement already satisfied: argon2-cffi in /home/vibo/anaconda3/envs/ods/lib/python3.9/site-packages (from notebook->jupyter) (20.1.0)\n",
      "Requirement already satisfied: nest-asyncio>=1.5 in /home/vibo/anaconda3/envs/ods/lib/python3.9/site-packages (from notebook->jupyter) (1.5.1)\n",
      "Requirement already satisfied: qtpy in /home/vibo/anaconda3/envs/ods/lib/python3.9/site-packages (from qtconsole->jupyter) (1.11.2)\n",
      "Requirement already satisfied: pickleshare in /home/vibo/anaconda3/envs/ods/lib/python3.9/site-packages (from ipython<8.0,>=7.23.1->ipykernel->jupyter) (0.7.5)\n",
      "Requirement already satisfied: backcall in /home/vibo/anaconda3/envs/ods/lib/python3.9/site-packages (from ipython<8.0,>=7.23.1->ipykernel->jupyter) (0.2.0)\n",
      "Requirement already satisfied: pexpect>4.3 in /home/vibo/anaconda3/envs/ods/lib/python3.9/site-packages (from ipython<8.0,>=7.23.1->ipykernel->jupyter) (4.8.0)\n",
      "Requirement already satisfied: jedi>=0.16 in /home/vibo/anaconda3/envs/ods/lib/python3.9/site-packages (from ipython<8.0,>=7.23.1->ipykernel->jupyter) (0.18.1)\n",
      "Requirement already satisfied: setuptools>=18.5 in /home/vibo/anaconda3/envs/ods/lib/python3.9/site-packages (from ipython<8.0,>=7.23.1->ipykernel->jupyter) (58.0.4)\n",
      "Requirement already satisfied: decorator in /home/vibo/anaconda3/envs/ods/lib/python3.9/site-packages (from ipython<8.0,>=7.23.1->ipykernel->jupyter) (5.1.1)\n",
      "Requirement already satisfied: MarkupSafe>=2.0 in /home/vibo/anaconda3/envs/ods/lib/python3.9/site-packages (from jinja2>=2.4->nbconvert->jupyter) (2.0.1)\n",
      "Requirement already satisfied: python-dateutil>=2.1 in /home/vibo/anaconda3/envs/ods/lib/python3.9/site-packages (from jupyter-client<8.0->ipykernel->jupyter) (2.8.2)\n",
      "Requirement already satisfied: async-generator in /home/vibo/anaconda3/envs/ods/lib/python3.9/site-packages (from nbclient<0.6.0,>=0.5.0->nbconvert->jupyter) (1.10)\n",
      "Requirement already satisfied: jsonschema!=2.5.0,>=2.4 in /home/vibo/anaconda3/envs/ods/lib/python3.9/site-packages (from nbformat>=4.2.0->ipywidgets->jupyter) (3.2.0)\n",
      "Requirement already satisfied: wcwidth in /home/vibo/anaconda3/envs/ods/lib/python3.9/site-packages (from prompt-toolkit!=3.0.0,!=3.0.1,<3.1.0,>=2.0.0->jupyter-console->jupyter) (0.2.5)\n",
      "Requirement already satisfied: ptyprocess in /home/vibo/anaconda3/envs/ods/lib/python3.9/site-packages (from terminado>=0.8.3->notebook->jupyter) (0.7.0)\n",
      "Requirement already satisfied: cffi>=1.0.0 in /home/vibo/anaconda3/envs/ods/lib/python3.9/site-packages (from argon2-cffi->notebook->jupyter) (1.15.0)\n",
      "Requirement already satisfied: six in /home/vibo/anaconda3/envs/ods/lib/python3.9/site-packages (from argon2-cffi->notebook->jupyter) (1.16.0)\n",
      "Requirement already satisfied: packaging in /home/vibo/anaconda3/envs/ods/lib/python3.9/site-packages (from bleach->nbconvert->jupyter) (21.3)\n",
      "Requirement already satisfied: webencodings in /home/vibo/anaconda3/envs/ods/lib/python3.9/site-packages (from bleach->nbconvert->jupyter) (0.5.1)\n",
      "Requirement already satisfied: pycparser in /home/vibo/anaconda3/envs/ods/lib/python3.9/site-packages (from cffi>=1.0.0->argon2-cffi->notebook->jupyter) (2.21)\n",
      "Requirement already satisfied: parso<0.9.0,>=0.8.0 in /home/vibo/anaconda3/envs/ods/lib/python3.9/site-packages (from jedi>=0.16->ipython<8.0,>=7.23.1->ipykernel->jupyter) (0.8.3)\n",
      "Requirement already satisfied: attrs>=17.4.0 in /home/vibo/anaconda3/envs/ods/lib/python3.9/site-packages (from jsonschema!=2.5.0,>=2.4->nbformat>=4.2.0->ipywidgets->jupyter) (21.4.0)\n",
      "Requirement already satisfied: pyrsistent>=0.14.0 in /home/vibo/anaconda3/envs/ods/lib/python3.9/site-packages (from jsonschema!=2.5.0,>=2.4->nbformat>=4.2.0->ipywidgets->jupyter) (0.18.0)\n"
     ]
    },
    {
     "name": "stdout",
     "output_type": "stream",
     "text": [
      "Requirement already satisfied: pyparsing!=3.0.5,>=2.0.2 in /home/vibo/anaconda3/envs/ods/lib/python3.9/site-packages (from packaging->bleach->nbconvert->jupyter) (3.0.4)\n",
      "Installing collected packages: jupyterlab-widgets, jupyter-console, widgetsnbextension, ipywidgets, jupyter\n",
      "Successfully installed ipywidgets-7.6.5 jupyter-1.0.0 jupyter-console-6.4.0 jupyterlab-widgets-1.0.2 widgetsnbextension-3.5.2\n"
     ]
    }
   ],
   "source": [
    "#vibo: посмотрим, что получится\n",
    "!pip install jupyter"
   ]
  },
  {
   "cell_type": "code",
   "execution_count": 7,
   "id": "f00bc01e",
   "metadata": {},
   "outputs": [
    {
     "data": {
      "text/plain": [
       "'Linux-5.9.16-1-MANJARO-x86_64-with-glibc2.33'"
      ]
     },
     "execution_count": 7,
     "metadata": {},
     "output_type": "execute_result"
    }
   ],
   "source": [
    "#vibo: вопрос 1 ods.ai\n",
    "import platform\n",
    "platform.platform()"
   ]
  },
  {
   "cell_type": "code",
   "execution_count": 8,
   "id": "01c05bab",
   "metadata": {},
   "outputs": [
    {
     "data": {
      "text/plain": [
       "'3.9.7 (default, Sep 16 2021, 13:09:58) \\n[GCC 7.5.0]'"
      ]
     },
     "execution_count": 8,
     "metadata": {},
     "output_type": "execute_result"
    }
   ],
   "source": [
    "#vibo: вопрос 2 ods.ai\n",
    "import sys\n",
    "sys.version"
   ]
  },
  {
   "cell_type": "code",
   "execution_count": 9,
   "id": "02f67546",
   "metadata": {},
   "outputs": [
    {
     "name": "stdout",
     "output_type": "stream",
     "text": [
      "pip 22.0.3 from /home/vibo/anaconda3/envs/ods/lib/python3.9/site-packages/pip (python 3.9)\r\n"
     ]
    }
   ],
   "source": [
    "#vibo: проверяю версию pip\n",
    "!pip --version"
   ]
  }
 ],
 "metadata": {
  "kernelspec": {
   "display_name": "Python 3 (ipykernel)",
   "language": "python",
   "name": "python3"
  },
  "language_info": {
   "codemirror_mode": {
    "name": "ipython",
    "version": 3
   },
   "file_extension": ".py",
   "mimetype": "text/x-python",
   "name": "python",
   "nbconvert_exporter": "python",
   "pygments_lexer": "ipython3",
   "version": "3.9.7"
  }
 },
 "nbformat": 4,
 "nbformat_minor": 5
}
